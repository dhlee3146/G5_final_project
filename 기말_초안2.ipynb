{
  "nbformat": 4,
  "nbformat_minor": 0,
  "metadata": {
    "colab": {
      "provenance": [],
      "authorship_tag": "ABX9TyNuOL75ARBvixou237jNxx/",
      "include_colab_link": true
    },
    "kernelspec": {
      "name": "python3",
      "display_name": "Python 3"
    },
    "language_info": {
      "name": "python"
    }
  },
  "cells": [
    {
      "cell_type": "markdown",
      "metadata": {
        "id": "view-in-github",
        "colab_type": "text"
      },
      "source": [
        "<a href=\"https://colab.research.google.com/github/dhlee3146/G5_final_project/blob/main/%EA%B8%B0%EB%A7%90_%EC%B4%88%EC%95%882.ipynb\" target=\"_parent\"><img src=\"https://colab.research.google.com/assets/colab-badge.svg\" alt=\"Open In Colab\"/></a>"
      ]
    },
    {
      "cell_type": "markdown",
      "source": [
        "## 제안 사항\n",
        "+ 학생들에게 숙제를 미리 내주는 건 어떨까요?"
      ],
      "metadata": {
        "id": "3J_3cx0FqlQD"
      }
    },
    {
      "cell_type": "markdown",
      "source": [
        "본문 학습 하기 전 준비 단계 >> 전 수업시간에 assignment 미리 줬다는 설정\n",
        "\n",
        "+) 단어 학습을 위한 간단한 **단어 테스트 숙제**\n",
        "- 단어 리스트 뽑아서 학생들에게 주기\n",
        "- 단어 테스트는 fill in the blanks app\n",
        "- QR: 패들렛에 테스트 링크 미리 업로드 > 수업 하루 전에 캡쳐본 올리기 (instruction 미리 주기)"
      ],
      "metadata": {
        "id": "q0Mxp084pc5p"
      }
    },
    {
      "cell_type": "markdown",
      "source": [
        "## **[1] Preview**\n",
        "\n",
        "---\n",
        "\n"
      ],
      "metadata": {
        "id": "U5cDqt5pqOYT"
      }
    },
    {
      "cell_type": "markdown",
      "source": [
        "1) What is the story 'The Cave of Whisper' about?\n",
        "+ Watching Summary Video (30s-1m)\n",
        "+ 1분 이하의 비디오 시청을 통해 학생들이 본문에 대한 전체적인 그림을 그릴 수 있게 한다."
      ],
      "metadata": {
        "id": "USflrpodqYVo"
      }
    },
    {
      "cell_type": "code",
      "source": [
        "#@markdown Video to watch (from Youtube): Story video\n",
        "\n",
        "from IPython.display import YouTubeVideo\n",
        "\n",
        "YouTubeVideo('tbcTrKZldbw', width=600, height=400)  # This is an example video ID"
      ],
      "metadata": {
        "colab": {
          "base_uri": "https://localhost:8080/",
          "height": 422
        },
        "cellView": "form",
        "id": "hVQT5hEWq10b",
        "outputId": "1a4dab16-96ff-4c03-c65a-f2b706f60b8e"
      },
      "execution_count": 1,
      "outputs": [
        {
          "output_type": "execute_result",
          "data": {
            "text/plain": [
              "<IPython.lib.display.YouTubeVideo at 0x78ad81379240>"
            ],
            "text/html": [
              "\n",
              "        <iframe\n",
              "            width=\"600\"\n",
              "            height=\"400\"\n",
              "            src=\"https://www.youtube.com/embed/tbcTrKZldbw\"\n",
              "            frameborder=\"0\"\n",
              "            allowfullscreen\n",
              "            \n",
              "        ></iframe>\n",
              "        "
            ],
            "image/jpeg": "[encoded data removed]"
          },
          "metadata": {},
          "execution_count": 1
        }
      ]
    },
    {
      "cell_type": "markdown",
      "source": [
        "+ 영상 시청 후 어떤 내용이 나올지 학생들과 짧은 토의 시간을 가진다."
      ],
      "metadata": {
        "id": "3lkqlnLdMzFO"
      }
    },
    {
      "cell_type": "markdown",
      "source": [
        "## **[2] 본문학습**\n",
        "\n",
        "\n",
        "---\n",
        "\n"
      ],
      "metadata": {
        "id": "MBqsUtLlnGgX"
      }
    },
    {
      "cell_type": "markdown",
      "source": [
        "## 1) Grammar Teaching\n",
        "\n",
        "+ Show slid images to sutendt to teaching key grammar points.\n",
        "+ Grammar 학습 목표: 관계대명사와 명사절 that을 구분할 수 있다.\n",
        "+ 슬라이드 만들어 넣기"
      ],
      "metadata": {
        "id": "ZY8m13UPn9kM"
      }
    },
    {
      "cell_type": "code",
      "source": [
        "from IPython.display import Image\n",
        "\n",
        "sid = \"1\" #@param = [1,2,3]\n",
        "\n",
        "nid = int(sid)-1\n",
        "\n",
        "urls = [\n",
        "    \"https://github.com/MK316/Spring2024/raw/main/DLTESOL/data/0514TESOL.001.png\",\n",
        "    \"https://github.com/MK316/Spring2024/raw/main/DLTESOL/data/0514TESOL.002.png\",\n",
        "    \"https://github.com/MK316/Spring2024/raw/main/DLTESOL/data/0514TESOL.003.png\"\n",
        "    ]\n",
        "\n",
        "Image(urls[nid], width =\" 600\", height = \"500\")"
      ],
      "metadata": {
        "cellView": "form",
        "id": "OmFFPKrZn9Ej"
      },
      "execution_count": null,
      "outputs": []
    },
    {
      "cell_type": "markdown",
      "source": [
        "## 2) Teaching Textbook Material _ Using Gradio App  "
      ],
      "metadata": {
        "id": "KPOimMIonTBO"
      }
    },
    {
      "cell_type": "code",
      "execution_count": null,
      "metadata": {
        "cellView": "form",
        "id": "wGdUhhCcm9lc"
      },
      "outputs": [],
      "source": [
        "#@markdown #### ※ Run before running app\n",
        "\n",
        "mytext = \"In the small town of Willow Creek, nestled between lush hills and a winding river, four friends—Emma, Jake, Mia, and Liam—stumbled upon an old map tucked inside a dusty library book titled 'Legends of the Lost.' The map depicted a hidden cave known only as the Cave of Whispers, rumored to hold a mysterious treasure that no one in Willow Creek had ever found. The friends, buzzing with excitement, planned an adventure to discover the cave. They packed their backpacks with essentials: flashlights, a compass, snacks, and a camera to document their journey. With the map as their guide, they set off early one Saturday morning, the summer sun casting long shadows through the forest. Their journey led them through thick woods where the light danced between the leaves, creating patterns on the forest floor. Birds chirped melodiously, providing a soundtrack to their expedition. After hours of hiking, the map directed them to a hidden path veiled by overgrown bushes. Pushing through, they finally came to a halt in front of a towering cliff face. In its center, concealed behind hanging vines, was the entrance to the Cave of Whispers. With hearts racing, the friends entered the cave. Inside, it was cool and damp, the air filled with the echo of dripping water. Their flashlights cut through the darkness, revealing ancient rock formations and walls that seemed to hum with old secrets. As they ventured deeper, they found carvings on the cave walls—mysterious symbols that none of them could decipher. Mia, who had a keen interest in history, took several photos, hoping to research them later. Suddenly, Jake, who was leading, halted. Ahead, in a small clearing within the cave, lay a wooden chest. It was old and covered in dust, with intricate carvings that shimmered under their flashlight beams. The friends exchanged looks of awe and nervous excitement. Liam carefully opened the chest to reveal its contents: golden coins, sparkling jewels, and a parchment that looked centuries old. Emma carefully unfolded the parchment, revealing a message written in an elegant script. It read: To those who seek adventure, true treasure lies not in gold but in the journey and the friendships forged along the way. The friends sat back, the weight of the words sinking in. They realized that the real treasure was their shared adventure—the challenges they overcame together and the memories they created. As they left the cave, the sun was setting, casting a golden glow over the landscape. They didn’t take anything from the chest, choosing instead to leave it for the next group of adventurers. Back home, they shared their story, the mysterious symbols, and the sage words of the parchment. The Cave of Whispers had given them a treasure far greater than they had imagined: a story of friendship, courage, and adventure that they would cherish forever.\""
      ]
    },
    {
      "cell_type": "code",
      "source": [
        "#@markdown Gradio app for Read-Aloud practice (by sentences)\n",
        "import gradio as gr\n",
        "from gtts import gTTS\n",
        "from nltk import tokenize\n",
        "import os\n",
        "\n",
        "# Import necessary nltk libraries\n",
        "import nltk\n",
        "nltk.download('punkt')\n",
        "\n",
        "\n",
        "# Tokenize the predefined text into sentences\n",
        "sentences = tokenize.sent_tokenize(mytext)\n",
        "\n",
        "def generate_audio(selected_item):\n",
        "    index_str = selected_item.split('.')[0]\n",
        "    index = int(index_str) - 1  # Adjust for 0-based index\n",
        "\n",
        "    if 0 <= index < len(sentences):\n",
        "        sentence = sentences[index]\n",
        "        tts = gTTS(text=sentence, lang='en')\n",
        "        audio_path = f'sentence_{index + 1}.mp3'\n",
        "        tts.save(audio_path)\n",
        "        return audio_path\n",
        "    else:\n",
        "        return \"Invalid sentence number\"\n",
        "\n",
        "# Gradio interface\n",
        "iface = gr.Interface(\n",
        "    fn=generate_audio,\n",
        "    inputs=gr.Dropdown(choices=[f\"{i + 1}. {s}\" for i, s in enumerate(sentences)], label=\"Select Sentence\"),\n",
        "    outputs=gr.Audio(label=\"Audio of Selected Sentence\"),\n",
        "    title=\"Text to Audio by Sentence\",\n",
        "    description=\"Select a sentence number to hear it spoken.\"\n",
        ")\n",
        "\n",
        "iface.launch()\n"
      ],
      "metadata": {
        "cellView": "form",
        "id": "1Jn1r0KXnR4I"
      },
      "execution_count": null,
      "outputs": []
    },
    {
      "cell_type": "markdown",
      "source": [
        "## **[3] Group Activity**\n",
        "\n",
        "\n",
        "---\n",
        "\n",
        "\n"
      ],
      "metadata": {
        "id": "AVT6RrWTrSQS"
      }
    },
    {
      "cell_type": "markdown",
      "source": [
        "## 1) 순서 배열\n",
        "+ 순서 배열은 넣, 뺗 고민\n",
        "+ 본문 학습 or 문법 중심 결정 후 넣어보기\n",
        "+"
      ],
      "metadata": {
        "id": "EPGyn8Gdvdmx"
      }
    },
    {
      "cell_type": "markdown",
      "source": [
        "## 2) Quiz ##\n",
        "+ 본문 내용 관련 Grammar 문제 풀기\n",
        "+ 외부 문제도 좋을 듯\n",
        "+ 타이핑, 빈칸 넣기"
      ],
      "metadata": {
        "id": "OVRzhMrpvMQR"
      }
    },
    {
      "cell_type": "markdown",
      "source": [
        "### 📋 **Instruction**\n",
        "1. 큐알 코드\n",
        "2. 모둠 별로 문제 풀이 후 결과 캡쳐 (큐알 제공)\n",
        "3. 패들렛에 올리기 (Padelet 큐알 제공)"
      ],
      "metadata": {
        "id": "hHp_IUmVuXeq"
      }
    },
    {
      "cell_type": "markdown",
      "source": [
        "### **Here**\n",
        "\n",
        "+ 패들렛 주소 넣기\n",
        "+ 큐알 코드 사진 넣기"
      ],
      "metadata": {
        "id": "qsLYIJ-mm1bn"
      }
    },
    {
      "cell_type": "markdown",
      "source": [
        "## 4) Feedback\n",
        "+ 학생들의 퀴즈 결과를 바탕으로 피드백 제공\n",
        "+ 페이지에서 바로 풀이\n"
      ],
      "metadata": {
        "id": "PaeFpAtinAvG"
      }
    },
    {
      "cell_type": "code",
      "source": [
        "#@markdown #### ※ Run before running app\n",
        "\n",
        "%%capture\n",
        "!pip install gradio"
      ],
      "metadata": {
        "cellView": "form",
        "id": "unATrnT0s8J_"
      },
      "execution_count": 1,
      "outputs": []
    },
    {
      "cell_type": "code",
      "source": [
        "#@markdown ## Quiz for Practicing Grammar (7m)\n",
        "\n",
        "import gradio as gr\n",
        "\n",
        "# The story \"The Cave of Whispers\" with blanks for cloze questions\n",
        "story = \"https://raw.githubusercontent.com/MK316/Spring2024/main/Sample/storysample.txt\"\n",
        "\n",
        "# Cloze questions\n",
        "cloze_questions = [\n",
        "    {\"question\": \"Once upon a time in the small town of Windale, two adventurous friends, Mary and John, ______ (stumble) upon an old map in John’s attic.\", \"answer\": \"stumbled\"},\n",
        "    {\"question\": \"The map was dusty and the edges ______ (fray), but it clearly marked a trail leading to the mysterious Cave of Whispers.\", \"answer\": \"were frayed\"},\n",
        "    {\"question\": \"Mary, with her wild, curly hair and eyes full of mischief, was the first ______ (propose) an adventure.\", \"answer\": \"to propose\"},\n",
        "    {\"question\": \"John, more cautious but unable to resist a challenge, ______ (agree).\", \"answer\": \"agreed\"},\n",
        "    {\"question\": \"The next morning, armed with their backpacks and an unstoppable curiosity, Mary and John ______ (set) out.\", \"answer\": \"set\"},\n",
        "    {\"question\": \"As they ______ (approach), the air grew cooler and the light dimmed, shadowed by the towering trees.\", \"answer\": \"approached\"},\n",
        "    {\"question\": \"Finally, they found it—a gaping entrance in the hillside, partially ______ (hide) by moss and ivy.\", \"answer\": \"hidden\"},\n",
        "    {\"question\": \"The cave seemed to respond, the floor ______ (shift) slightly under their feet, revealing a small, hidden drawer.\", \"answer\": \"shifting\"},\n",
        "    {\"question\": \"Inside, they found a chest filled not with gold, but with an assortment of strange, ancient coins and a perfectly ______ (preserve) pirate's compass.\", \"answer\": \"preserved\"},\n",
        "    {\"question\": \"Mary looked over at John and said, “Let’s keep ______ (explore), there’s so much more out there.”\", \"answer\": \"exploring\"},\n",
        "]\n",
        "\n",
        "# Function to handle the cloze quiz\n",
        "def cloze_quiz(name, *answers):\n",
        "    score = 0\n",
        "    results = []\n",
        "    for i, question in enumerate(cloze_questions):\n",
        "        if answers[i].strip().lower() == question[\"answer\"].lower():\n",
        "            score += 1\n",
        "            results.append(f\"Question {i+1}: Correct\\n\")\n",
        "        else:\n",
        "            results.append(f\"Question {i+1}: Incorrect, the correct answer is: {question['answer']}\\n\")\n",
        "    result_text = f\"* Name: {name}\\n* Score: {score} out of {len(cloze_questions)}\\n\" + \"\\n\".join(results)\n",
        "\n",
        "    return result_text\n",
        "\n",
        "# Add the input for the name\n",
        "inputs = [gr.Textbox(label=\"Enter your name\")] + [gr.Textbox(label=q[\"question\"]) for q in cloze_questions]\n",
        "outputs = [gr.Textbox(label=\"Results\")]\n",
        "\n",
        "iface = gr.Interface(fn=cloze_quiz, inputs=inputs, outputs=outputs, description=\"Cloze Quiz for 'The Cave of Whispers'\")\n",
        "iface.launch(share=True)\n"
      ],
      "metadata": {
        "cellView": "form",
        "id": "CTQL0hgqsyyh"
      },
      "execution_count": null,
      "outputs": []
    },
    {
      "cell_type": "markdown",
      "source": [
        "안에 퀴즈 내용 넣기\n",
        "\n",
        "1.  \n",
        "2.  \n",
        "3.  \n",
        "4.  \n",
        "5.  "
      ],
      "metadata": {
        "id": "rbZUKNgInq-u"
      }
    },
    {
      "cell_type": "markdown",
      "source": [
        "## **[5] Review**\n",
        "\n",
        "---\n",
        "\n"
      ],
      "metadata": {
        "id": "GUgqQQe2oiVo"
      }
    },
    {
      "cell_type": "markdown",
      "source": [
        "지문 복습을 위해 Word Cloud 활동 & 지문 내용을 담은 짧은 영상을 보여주며 마무리\n",
        "+ Step 1. 지문 내용을 기반으로 한 Word Cloud 이미지를 보여준 후 학생들과 함께 훑어본다.\n",
        "+ Step 2. 학생들은 돌아가며 해당 키워드와 관련하여 오늘 배운 내용에 대해 이야기 한다."
      ],
      "metadata": {
        "id": "KDOwq0Sto9wI"
      }
    },
    {
      "cell_type": "code",
      "source": [
        "#@markdown #### ※ Run before making Word Cloud\n",
        "\n",
        "text = \"In the small town of Willow Creek, nestled between lush hills and a winding river, four friends—Emma, Jake, Mia, and Liam—stumbled upon an old map tucked inside a dusty library book titled 'Legends of the Lost.' The map depicted a hidden cave known only as the Cave of Whispers, rumored to hold a mysterious treasure that no one in Willow Creek had ever found. The friends, buzzing with excitement, planned an adventure to discover the cave. They packed their backpacks with essentials: flashlights, a compass, snacks, and a camera to document their journey. With the map as their guide, they set off early one Saturday morning, the summer sun casting long shadows through the forest. Their journey led them through thick woods where the light danced between the leaves, creating patterns on the forest floor. Birds chirped melodiously, providing a soundtrack to their expedition. After hours of hiking, the map directed them to a hidden path veiled by overgrown bushes. Pushing through, they finally came to a halt in front of a towering cliff face. In its center, concealed behind hanging vines, was the entrance to the Cave of Whispers. With hearts racing, the friends entered the cave. Inside, it was cool and damp, the air filled with the echo of dripping water. Their flashlights cut through the darkness, revealing ancient rock formations and walls that seemed to hum with old secrets. As they ventured deeper, they found carvings on the cave walls—mysterious symbols that none of them could decipher. Mia, who had a keen interest in history, took several photos, hoping to research them later. Suddenly, Jake, who was leading, halted. Ahead, in a small clearing within the cave, lay a wooden chest. It was old and covered in dust, with intricate carvings that shimmered under their flashlight beams. The friends exchanged looks of awe and nervous excitement. Liam carefully opened the chest to reveal its contents: golden coins, sparkling jewels, and a parchment that looked centuries old. Emma carefully unfolded the parchment, revealing a message written in an elegant script. It read: To those who seek adventure, true treasure lies not in gold but in the journey and the friendships forged along the way. The friends sat back, the weight of the words sinking in. They realized that the real treasure was their shared adventure—the challenges they overcame together and the memories they created. As they left the cave, the sun was setting, casting a golden glow over the landscape. They didn’t take anything from the chest, choosing instead to leave it for the next group of adventurers. Back home, they shared their story, the mysterious symbols, and the sage words of the parchment. The Cave of Whispers had given them a treasure far greater than they had imagined: a story of friendship, courage, and adventure that they would cherish forever.\""
      ],
      "metadata": {
        "cellView": "form",
        "id": "UjOZAVJrpDGL"
      },
      "execution_count": null,
      "outputs": []
    },
    {
      "cell_type": "code",
      "source": [
        "#@markdown ## ☁ Word Cloud of 'The Cave of Whipers'\n",
        "\n",
        "#!pip install wordcloud matplotlib\n",
        "\n",
        "from wordcloud import WordCloud\n",
        "import matplotlib.pyplot as plt\n",
        "\n",
        "# Generate word cloud\n",
        "\n",
        "wordcloud = WordCloud(width = 600, height = 600,\n",
        "                      background_color ='white',\n",
        "                      min_font_size = 10).generate(text)\n",
        "\n",
        "# Display the word cloud using matplotlib\n",
        "plt.figure(figsize = (6, 6), facecolor = None) # e.g., facecolor = \"gray\"\n",
        "plt.imshow(wordcloud)\n",
        "plt.axis(\"off\")\n",
        "plt.tight_layout(pad = 0)\n",
        "\n",
        "print(\"Title: The Cave of Whisper\") # 제목을 output에 프린트하고 싶을 때\n",
        "plt.show()\n",
        "plt.savefig('myimage.png')"
      ],
      "metadata": {
        "cellView": "form",
        "id": "rwK2WEMZpJEy"
      },
      "execution_count": null,
      "outputs": []
    },
    {
      "cell_type": "markdown",
      "source": [
        "## **[6] Assignment**\n",
        "\n",
        "---\n",
        "\n"
      ],
      "metadata": {
        "id": "lS9RHxwbpL9g"
      }
    },
    {
      "cell_type": "markdown",
      "source": [
        "+ 본문 내용 관련 문제를 숙제로 풀고 패들렛에 올리도록 하는 것도 좋을 것 같아요!\n",
        "+ Muliple choice app"
      ],
      "metadata": {
        "id": "nKu0rIHWpVL3"
      }
    },
    {
      "cell_type": "code",
      "source": [
        "%%capture\n",
        "!pip install gradio"
      ],
      "metadata": {
        "id": "2_yKJGAHp2Ku"
      },
      "execution_count": null,
      "outputs": []
    },
    {
      "cell_type": "code",
      "source": [
        "#@markdown ## **Assignment**\n",
        "import gradio as gr\n",
        "\n",
        "story = \"https://raw.githubusercontent.com/MK316/Spring2024/main/Sample/storysample.txt\"\n",
        "\n",
        "# Define the comprehension questions\n",
        "questions = [\n",
        "    {\"question\": \"1. Where did Mary and John find the old map?\", \"options\": [\"In the library\", \"In John's attic\", \"In a museum\"], \"answer\": \"In John's attic\"},\n",
        "    {\"question\": \"2. What was the rumored treasure in the Cave of Whispers?\", \"options\": [\"Lost treasure of Captain Eldridge\", \"Ancient artifacts\", \"A magical gem\"], \"answer\": \"Lost treasure of Captain Eldridge\"},\n",
        "    {\"question\": \"3. What did John suggest to bring on their adventure?\", \"options\": [\"Flashlights, ropes, and sandwiches\", \"Water, food, and a tent\", \"Maps, books, and a compass\"], \"answer\": \"Flashlights, ropes, and sandwiches\"},\n",
        "    {\"question\": \"4. Which path did Mary want to explore?\", \"options\": [\"The left path\", \"The right path\", \"The path back home\"], \"answer\": \"The right path\"},\n",
        "    {\"question\": \"5. What did they find in the small chamber?\", \"options\": [\"A chest filled with gold\", \"A pool of crystal-clear water with gems\", \"A secret door\"], \"answer\": \"A pool of crystal-clear water with gems\"},\n",
        "    {\"question\": \"6. What was in the hidden drawer?\", \"options\": [\"Gold and jewels\", \"Ancient coins and a pirate's compass\", \"A map and a key\"], \"answer\": \"Ancient coins and a pirate's compass\"},\n",
        "    {\"question\": \"7. What did the whispering voice say?\", \"options\": [\"Brave hearts, true and bold, lift the darkness, reveal the gold\", \"Follow the light to find the treasure\", \"The treasure lies in the journey\"], \"answer\": \"Brave hearts, true and bold, lift the darkness, reveal the gold\"},\n",
        "    {\"question\": \"8. What did Mary and John decide about the treasure?\", \"options\": [\"They took it home\", \"They left it for the next adventurers\", \"They hid it again\"], \"answer\": \"They left it for the next adventurers\"}\n",
        "]\n",
        "\n",
        "# Function to display the story and ask questions\n",
        "def quiz(*answers):\n",
        "    score = 0\n",
        "    incorrect = []\n",
        "    for i, question in enumerate(questions):\n",
        "        if answers[i] == question[\"answer\"]:\n",
        "            score += 1\n",
        "        else:\n",
        "            incorrect.append(f\"Question {i+1}: Correct answer is {question['answer']}\")\n",
        "    results = \"\\n\".join(incorrect)\n",
        "    return score, results\n",
        "\n",
        "story_display = gr.Markdown(story)\n",
        "inputs = [gr.Radio(label=q[\"question\"], choices=q[\"options\"]) for q in questions]\n",
        "outputs = [gr.Textbox(label=\"Score\"), gr.Textbox(label=\"Incorrect Answers\")]\n",
        "\n",
        "iface = gr.Interface(fn=quiz, inputs=inputs, outputs=outputs, description=\"Comprehension Quiz for 'The Cave of Whispers'\")\n",
        "iface.launch(share=True)\n"
      ],
      "metadata": {
        "cellView": "form",
        "id": "6YKp8gZdp5t7"
      },
      "execution_count": null,
      "outputs": []
    }
  ]
}