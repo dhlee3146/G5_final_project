{
  "nbformat": 4,
  "nbformat_minor": 0,
  "metadata": {
    "colab": {
      "provenance": [],
      "authorship_tag": "ABX9TyPftU0lWt+47X0eZ83LAAvj",
      "include_colab_link": true
    },
    "kernelspec": {
      "name": "python3",
      "display_name": "Python 3"
    },
    "language_info": {
      "name": "python"
    }
  },
  "cells": [
    {
      "cell_type": "markdown",
      "metadata": {
        "id": "view-in-github",
        "colab_type": "text"
      },
      "source": [
        "<a href=\"https://colab.research.google.com/github/dhlee3146/G5_final_project/blob/main/G5_final_project_final_ver_.ipynb\" target=\"_parent\"><img src=\"https://colab.research.google.com/assets/colab-badge.svg\" alt=\"Open In Colab\"/></a>"
      ]
    },
    {
      "cell_type": "code",
      "execution_count": null,
      "metadata": {
        "id": "OW00RmdZyH9O"
      },
      "outputs": [],
      "source": []
    },
    {
      "cell_type": "markdown",
      "source": [
        "## 0. Homework\n",
        "\n",
        "\n",
        "\n",
        "*   Check the word list\n",
        "*   Fill in the blank\n",
        "*   Check the QR (invite the padlet)\n",
        "\n",
        "\n",
        "\n",
        "\n",
        "\n"
      ],
      "metadata": {
        "id": "6UbXO4C70CA_"
      }
    },
    {
      "cell_type": "markdown",
      "source": [
        "## 1. Preview\n",
        "\n",
        "\n",
        "*   Watching the summary video\n",
        "*   Guessing the point\n",
        "\n"
      ],
      "metadata": {
        "id": "4YyWLEIdydqV"
      }
    },
    {
      "cell_type": "markdown",
      "source": [
        "## 2. Learning the context\n",
        "\n",
        "\n",
        "1.   Grammar Teaching\n",
        "2.   Teaching Textbook Material_Using Gradio App\n",
        "\n",
        "\n",
        "\n"
      ],
      "metadata": {
        "id": "CgP9dafkzfAn"
      }
    },
    {
      "cell_type": "markdown",
      "source": [
        "## 3. Group Activity\n",
        "\n",
        "\n",
        "\n",
        "1.   Arrange the correct story sequence\n",
        "2.   Answer the Quiz\n",
        "\n"
      ],
      "metadata": {
        "id": "BOwEQTP218Aw"
      }
    },
    {
      "cell_type": "markdown",
      "source": [
        "## 4. Feedback\n",
        "\n",
        "\n",
        "\n",
        "*   Making the feedback\n",
        "\n"
      ],
      "metadata": {
        "id": "6wCgzlxn2XJK"
      }
    },
    {
      "cell_type": "markdown",
      "source": [
        "## 5. Review\n",
        "\n",
        "\n",
        "\n",
        "*   Word cloud\n",
        "\n",
        "\n",
        "\n",
        "\n"
      ],
      "metadata": {
        "id": "blzptsBO2g6x"
      }
    },
    {
      "cell_type": "markdown",
      "source": [
        "## 6. Assignment"
      ],
      "metadata": {
        "id": "aOktg8a529uT"
      }
    }
  ]
}